{
  "cells": [
    {
      "cell_type": "markdown",
      "metadata": {
        "id": "view-in-github",
        "colab_type": "text"
      },
      "source": [
        "<a href=\"https://colab.research.google.com/github/rp-durgesh19/100-day-100-code/blob/main/python_pra.ipynb\" target=\"_parent\"><img src=\"https://colab.research.google.com/assets/colab-badge.svg\" alt=\"Open In Colab\"/></a>"
      ]
    },
    {
      "cell_type": "markdown",
      "source": [
        "1. User will input (3ages).Find the oldest one"
      ],
      "metadata": {
        "id": "prXSi43OiEsN"
      }
    },
    {
      "cell_type": "code",
      "source": [
        "num1,num2,num3=input(\"Enter your age: \").split()\n",
        "if int(num1)>int(num2) and int(num1)>int(num3):\n",
        "  print('Oldest one {}'.format(num1))\n",
        "elif int(num1)<int(num2) and int(num2)>int(num3):\n",
        "  print('Oldest one {}'.format(num2))\n",
        "else:\n",
        "  print('Oldest one {}'.format(num3))"
      ],
      "metadata": {
        "colab": {
          "base_uri": "https://localhost:8080/"
        },
        "id": "5Gny3AObh8ph",
        "outputId": "97f63390-5790-4b78-acf9-06ef9a3aaec4"
      },
      "execution_count": null,
      "outputs": [
        {
          "output_type": "stream",
          "name": "stdout",
          "text": [
            "Enter your age: 77 56 45\n",
            "Oldest one 77\n"
          ]
        }
      ]
    },
    {
      "cell_type": "markdown",
      "source": [
        "2. Write a program that will convert celsius value to fahrenheit"
      ],
      "metadata": {
        "id": "TY76DOMBjO22"
      }
    },
    {
      "cell_type": "code",
      "source": [
        "cel=float(input(\"Enter the Temp. in cleciaus: \"))\n",
        "print(\"The temp in faherenhit {}\".format((cel*1.8)+32))"
      ],
      "metadata": {
        "colab": {
          "base_uri": "https://localhost:8080/"
        },
        "id": "UZdj3yOV5hfr",
        "outputId": "d51056ed-5f07-4def-cde4-0a2bf83ba5a4"
      },
      "execution_count": null,
      "outputs": [
        {
          "output_type": "stream",
          "name": "stdout",
          "text": [
            "Enter the Temp. in cleciaus: 30\n",
            "The temp in faherenhit 86.0\n"
          ]
        }
      ]
    },
    {
      "cell_type": "markdown",
      "source": [
        "3. User will input (2numbers).Write a program to swap the numbers"
      ],
      "metadata": {
        "id": "O7im7pj3jTMz"
      }
    },
    {
      "cell_type": "code",
      "source": [
        "num1=int(input(\"Enter the first no: \"))\n",
        "num2=int(input(\"Enter the second no: \"))\n",
        "# num1,num2=num2,num1\n",
        "num1=num1+num2\n",
        "num2=num1-num2\n",
        "num1=num1-num2\n",
        "print(num1)\n",
        "print(num2)"
      ],
      "metadata": {
        "colab": {
          "base_uri": "https://localhost:8080/"
        },
        "id": "eUpOs51c6yjX",
        "outputId": "132aeb64-cc8b-44c5-d615-952e2efc4ba0"
      },
      "execution_count": null,
      "outputs": [
        {
          "output_type": "stream",
          "name": "stdout",
          "text": [
            "Enter the first no: 12\n",
            "Enter the second no: 13\n",
            "13\n",
            "12\n"
          ]
        }
      ]
    },
    {
      "cell_type": "markdown",
      "source": [
        "4. Write a program that will give you the sum of 3 digits"
      ],
      "metadata": {
        "id": "9THXwTOYjZRW"
      }
    },
    {
      "cell_type": "code",
      "source": [
        "n=int(input(\"Enter the three digit no\"))\n",
        "sum=0\n",
        "while(n!=0):\n",
        "  a=n%10\n",
        "  n=int(n/10)\n",
        "  sum+=a\n",
        "print(sum)"
      ],
      "metadata": {
        "id": "Ro4aCMqGERDF",
        "outputId": "7b1d0a05-6535-4d34-9c80-d90787c0fe55",
        "colab": {
          "base_uri": "https://localhost:8080/"
        }
      },
      "execution_count": null,
      "outputs": [
        {
          "output_type": "stream",
          "name": "stdout",
          "text": [
            "Enter the three digit no5444756\n",
            "35\n"
          ]
        }
      ]
    },
    {
      "cell_type": "markdown",
      "source": [
        "5. Write a program that will reverse a four digit number.Also it checks\n",
        "whether the reverse is true"
      ],
      "metadata": {
        "id": "eBrbnzt5jjhV"
      }
    },
    {
      "cell_type": "code",
      "source": [
        "n=int(input(\"Enter the three digit no\"))\n",
        "re=input(\"Enter the reverse of the no\")\n",
        "num=\"\"\n",
        "while(n!=0):\n",
        "  a=n%10\n",
        "  n=int(n/10)\n",
        "  num+=str(a)\n",
        "if (num)==re:\n",
        "  print('The reverse process is right')\n",
        "else:\n",
        "  print(\"something is wrong\")\n",
        "\n"
      ],
      "metadata": {
        "id": "MwphvnXzGdN-",
        "outputId": "337af371-e178-41fe-e083-edc0c603410b",
        "colab": {
          "base_uri": "https://localhost:8080/"
        }
      },
      "execution_count": null,
      "outputs": [
        {
          "output_type": "stream",
          "name": "stdout",
          "text": [
            "Enter the three digit no1234\n",
            "Enter the reverse of the no4321\n",
            "The revse process is right\n"
          ]
        }
      ]
    },
    {
      "cell_type": "markdown",
      "source": [
        "6. Write a program that will tell whether the number entered by the\n",
        "user is odd or even."
      ],
      "metadata": {
        "id": "oWBM8oaTjnx_"
      }
    },
    {
      "cell_type": "code",
      "source": [
        "no=int(input(\"Enter the number\"))\n",
        "if no%2==0 and no!=0:\n",
        "  print(\"The no is Even {}\".format(no))\n",
        "elif no%2!=0:\n",
        "  print(\"The no is odd {}\".format(no))\n",
        "else:\n",
        "  print('The no is zero neither even nor odd ')"
      ],
      "metadata": {
        "id": "woK7kkixKtpf",
        "outputId": "5b06738f-2fc4-48bf-845c-0ad7f3cfa521",
        "colab": {
          "base_uri": "https://localhost:8080/"
        }
      },
      "execution_count": null,
      "outputs": [
        {
          "output_type": "stream",
          "name": "stdout",
          "text": [
            "Enter the number100\n",
            "The no is Even 100\n"
          ]
        }
      ]
    },
    {
      "cell_type": "markdown",
      "source": [
        "7. Write a program that will tell whether the given year is a leap year\n",
        "or not"
      ],
      "metadata": {
        "id": "xV94OOLzjrAU"
      }
    },
    {
      "cell_type": "code",
      "source": [
        "year=int(input('Enter the year: '))\n",
        "if (year%4==0 and year%100!=0)or year%400==0 and year%100==0:\n",
        "  print(\"The Given year is a leap year\")\n",
        "else:\n",
        "  print(\"The given year is not a leap year\")\n"
      ],
      "metadata": {
        "id": "mcjE0v3zMHVL",
        "outputId": "30a2bd86-7c4d-4a1b-c484-35b0de74abb8",
        "colab": {
          "base_uri": "https://localhost:8080/"
        }
      },
      "execution_count": null,
      "outputs": [
        {
          "output_type": "stream",
          "name": "stdout",
          "text": [
            "Enter the year: 1990\n",
            "The given year is not a leap year\n"
          ]
        }
      ]
    },
    {
      "cell_type": "markdown",
      "source": [
        "9. Write a program that take a user inputr of three angles and will\n",
        "find out whether it can form a triangle or not"
      ],
      "metadata": {
        "id": "0aPTi3ygjwcP"
      }
    },
    {
      "cell_type": "code",
      "source": [
        "a1,a2,a3=input('Enter the angle: ').split()\n",
        "sum=int(a1)+int(a2)+int(a3)\n",
        "if sum==180:\n",
        "  print('The parameter has tringle')\n",
        "else:\n",
        "  print('The given paramet has not a triangle')"
      ],
      "metadata": {
        "id": "lkOEgKjgRy9p",
        "outputId": "a33488f1-2e4d-47c4-92c7-619aea451bf6",
        "colab": {
          "base_uri": "https://localhost:8080/"
        }
      },
      "execution_count": null,
      "outputs": [
        {
          "output_type": "stream",
          "name": "stdout",
          "text": [
            "Enter the angle: 60 60 60\n",
            "The parameter has tringle\n"
          ]
        }
      ]
    },
    {
      "cell_type": "markdown",
      "source": [
        "10. Write a program that will take user input of cost price and selling\n",
        "price and determines whether its a loss or a profit"
      ],
      "metadata": {
        "id": "odDaRhTZjytT"
      }
    },
    {
      "cell_type": "code",
      "source": [
        "cost=float(input('Enter the Cost price: '))\n",
        "slp=float(input(\"Enter the selling price: \"))\n",
        "diff=slp-cost\n",
        "if diff>0:\n",
        "  print(\"Its a profit of {}\".format(diff))\n",
        "else:\n",
        "  print(\"Its a loss of {}\".format(cost-slp))"
      ],
      "metadata": {
        "id": "DC7mz192XtjR",
        "outputId": "b94a131e-02d7-4e51-ced0-bdbc4fcc098d",
        "colab": {
          "base_uri": "https://localhost:8080/"
        }
      },
      "execution_count": null,
      "outputs": [
        {
          "output_type": "stream",
          "name": "stdout",
          "text": [
            "Enter the Cost price: 2503\n",
            "Enter the selling price: 2580\n",
            "Its a profit of 77.0\n"
          ]
        }
      ]
    },
    {
      "cell_type": "markdown",
      "source": [
        "11. Write a program to find the simple interest when the value of\n",
        "principle,rate of interest and time period is given."
      ],
      "metadata": {
        "id": "cMMoYZr8kA4Z"
      }
    },
    {
      "cell_type": "code",
      "source": [
        "p=float(input(\"Enter the principal ammount:  \"))\n",
        "r=float(input(\"Enter the rate:  \"))\n",
        "t=float(input(\"Enter the time:  \"))\n",
        "si=(p*r*t)/100\n",
        "print(\"The simple interst is {}\".format(si+p))"
      ],
      "metadata": {
        "id": "kzH02z2KaqS-",
        "outputId": "52c27b86-dd87-407c-85c2-df87c501f103",
        "colab": {
          "base_uri": "https://localhost:8080/"
        }
      },
      "execution_count": null,
      "outputs": [
        {
          "output_type": "stream",
          "name": "stdout",
          "text": [
            "Enter the principal ammount:  1200\n",
            "Enter the rate:  3\n",
            "Enter the time:  6\n",
            "The simple interst is 216.0\n"
          ]
        }
      ]
    },
    {
      "cell_type": "markdown",
      "source": [
        "16. Write a program that will check whether the number is armstrong\n",
        "number or not."
      ],
      "metadata": {
        "id": "so2WbH5EkGOZ"
      }
    },
    {
      "cell_type": "code",
      "source": [
        "no=int(input('Enter the no: '))\n",
        "n=no\n",
        "sum=0\n",
        "while(n!=0):\n",
        "  a=n%10\n",
        "  n=int(n/10)\n",
        "  sum+=a**3\n",
        "if sum==no:\n",
        "  print('The no {} is armstrong no.'.format(no))\n",
        "else:\n",
        "  print(\"The no is not an armstrong no\")\n",
        "\n"
      ],
      "metadata": {
        "id": "6t8TaAzWctMi",
        "colab": {
          "base_uri": "https://localhost:8080/"
        },
        "outputId": "d1032859-e6d5-4513-86cf-7a4b48f6e578"
      },
      "execution_count": null,
      "outputs": [
        {
          "output_type": "stream",
          "name": "stdout",
          "text": [
            "Enter the no: 371\n",
            "The no 371 is armstrong no.\n"
          ]
        }
      ]
    },
    {
      "cell_type": "markdown",
      "source": [
        "17. Write a program that will take user input of (4 digits number) and\n",
        "check whether the number is narcissist number or not"
      ],
      "metadata": {
        "id": "qufPBFwtkKdK"
      }
    },
    {
      "cell_type": "code",
      "source": [
        "no=int(input('Enter the no: '))\n",
        "n=no\n",
        "m=no%10\n",
        "sum=0\n",
        "while(n!=0):\n",
        "  a=n%10\n",
        "  n=int(n/10)\n",
        "  sum+=a**m\n",
        "if sum==no:\n",
        "  print(\"The no is narcissistic no \")\n",
        "else:\n",
        "  print(\"The no is not a narcissistic no \")"
      ],
      "metadata": {
        "id": "JfxS4lr0dAXd",
        "colab": {
          "base_uri": "https://localhost:8080/"
        },
        "outputId": "5858c150-08bd-4ff5-fad1-ec3159e65701"
      },
      "execution_count": null,
      "outputs": [
        {
          "output_type": "stream",
          "name": "stdout",
          "text": [
            "Enter the no: 153\n",
            "The no is narcissistic no \n"
          ]
        }
      ]
    },
    {
      "cell_type": "markdown",
      "source": [
        "18. Write a program that will give you the in hand salary after\n",
        "deduction of HRA(10%),DA(5%),PF(3%), and tax(if salary is between\n",
        "5-10 lakh–10%),(11-20lakh–20%),(20< _ – 30%)(0-1lakh print k)"
      ],
      "metadata": {
        "id": "ZlyBEDsJkwqc"
      }
    },
    {
      "cell_type": "code",
      "source": [
        "sa=int(input(\"Enter the salary ammount:  \"))\n",
        "hra=(sa*10)/100\n",
        "da=(sa*5)/100\n",
        "pf=(sa*3)/100\n",
        "if 500000>sa<=1000000:\n",
        "  t=(sa*10)/100\n",
        "elif 1000000>sa<2000000:\n",
        "  t=(sa*20)/100\n",
        "elif sa>2000000:\n",
        "  t=(sa*30)/100\n",
        "elif 1<sa>100000:\n",
        "  print(\"k\")\n",
        "print(\"Total in hand salary is {}\".format((sa-(hra+da+pf+t))/12))"
      ],
      "metadata": {
        "colab": {
          "base_uri": "https://localhost:8080/"
        },
        "id": "AuPhwVG5Tonf",
        "outputId": "62556102-6607-4725-aa28-cfb888d7460e"
      },
      "execution_count": null,
      "outputs": [
        {
          "output_type": "stream",
          "name": "stdout",
          "text": [
            "Enter the salary ammount:  600000\n",
            "Total in hand salary is 31000.0\n"
          ]
        }
      ]
    },
    {
      "cell_type": "markdown",
      "source": [
        "19. Write a menu driven program - 1.cm to ft 2.kl to miles 3.usd to inr\n",
        "4.exit\n"
      ],
      "metadata": {
        "id": "U_wqMEduk0UA"
      }
    },
    {
      "cell_type": "code",
      "source": [
        "n=input(\"Choose the no for desird service \\n\\t 1 to convert cm to feet \\n\\t 2 to convert km to mile \\n\\t 3 for usd to rupee\\n\\t 4 for exit: \")\n",
        "if n==\"1\":\n",
        "  print('You will choose to convert the cm to feet')\n",
        "  no=float(input('Please Enter no in cm: '))\n",
        "  print(\"the value in feet is {}feet\".format(no/30.48))\n",
        "elif n==\"2\":\n",
        "  print('You will choose to convert the km to mile')\n",
        "  no=float(input('Please Enter no in km: '))\n",
        "  print(\"the value in mile is {}mile\".format(no/1.609))\n",
        "elif n=='3':\n",
        "  print('You will choose to convert the usd to rupee')\n",
        "  no=float(input('Please Enter no in usd: '))\n",
        "  print(\"the value in rupee is {}rupee\".format(no/78))\n",
        "elif n=='4':\n",
        "\n",
        "\n"
      ],
      "metadata": {
        "id": "AOlf-RKDes-3",
        "colab": {
          "base_uri": "https://localhost:8080/"
        },
        "outputId": "db641dba-2556-4180-fd42-17eaaba60fd2"
      },
      "execution_count": null,
      "outputs": [
        {
          "name": "stdout",
          "output_type": "stream",
          "text": [
            "choose the no for desird service \n",
            "\t 1 to convert cm to feet \n",
            "\t 2 to convert km to mile \n",
            "\t 3 for usd to rupee1\n"
          ]
        }
      ]
    },
    {
      "cell_type": "code",
      "source": [
        "a=6\n",
        "b=3\n",
        "a/=2*3\n",
        "print(a)"
      ],
      "metadata": {
        "colab": {
          "base_uri": "https://localhost:8080/"
        },
        "id": "ekcNRydgbs_g",
        "outputId": "07006629-f9b1-40ac-885a-fb8be0d233d4"
      },
      "execution_count": null,
      "outputs": [
        {
          "output_type": "stream",
          "name": "stdout",
          "text": [
            "1.0\n"
          ]
        }
      ]
    },
    {
      "cell_type": "markdown",
      "source": [
        "20. Write a program that will tell the number of dogs and chicken\n",
        "are there when the user will provide the value of total heads and\n",
        "legs.\n"
      ],
      "metadata": {
        "id": "cY5XKosAk69y"
      }
    },
    {
      "cell_type": "code",
      "source": [
        "h=int(input('Enter the no of head'))\n",
        "l=int(input('Enter the no of leg'))\n",
        "hen=0\n",
        "for i in range(l,1,-2):\n",
        "  if i//4==h:\n",
        "    dog=h\n",
        "    break\n",
        "  else:\n",
        "    hen+=1\n",
        "    h-=1\n",
        "print('The no of dog is {} and the no of hen is {} .'.format(dog,hen))"
      ],
      "metadata": {
        "id": "MjJvPTA3woGG",
        "colab": {
          "base_uri": "https://localhost:8080/"
        },
        "outputId": "f18c1ec2-261f-4be8-f46f-8927aa284701"
      },
      "execution_count": null,
      "outputs": [
        {
          "output_type": "stream",
          "name": "stdout",
          "text": [
            "Enter the no of head4\n",
            "Enter the no of leg16\n",
            "The no of dog is 4 and the no of hen is 0 \n"
          ]
        }
      ]
    },
    {
      "cell_type": "markdown",
      "source": [
        "22.Write a program to find the sum of first n numbers, where n will be\n",
        "provided by the user. Eg if the user provides n=10 the output should be\n",
        "55."
      ],
      "metadata": {
        "id": "UjlgYMMmk_nJ"
      }
    },
    {
      "cell_type": "code",
      "source": [
        "n=int(input('Enter the no: '))\n",
        "sum=0\n",
        "for i in range(0,n+1):\n",
        "  sum+=i\n",
        "print('Sum of the {}th no is {}'.format(n,sum))"
      ],
      "metadata": {
        "id": "vdY3bur2w2az",
        "colab": {
          "base_uri": "https://localhost:8080/"
        },
        "outputId": "773147a8-3630-4123-949f-11d0f21db27b"
      },
      "execution_count": null,
      "outputs": [
        {
          "output_type": "stream",
          "name": "stdout",
          "text": [
            "Enter the no: 100\n",
            "Sum of the 100th no is 5050\n"
          ]
        }
      ]
    },
    {
      "cell_type": "markdown",
      "source": [
        "23.Write a program that can multiply 2 numbers provided by the user\n",
        "without using the * operator"
      ],
      "metadata": {
        "id": "97F8iQO4lH1B"
      }
    },
    {
      "cell_type": "code",
      "source": [
        "n1=int(input('Enter first no: '))\n",
        "n2=int(input('Enter the second no: '))\n",
        "r=0\n",
        "for i in range(n2):\n",
        "  r+=n1\n",
        "print('The multiplication result is ',r)"
      ],
      "metadata": {
        "colab": {
          "base_uri": "https://localhost:8080/"
        },
        "id": "TUTl8LbAt0Ym",
        "outputId": "ee783dfa-e3f2-4bd3-f59e-35efb3f7d451"
      },
      "execution_count": null,
      "outputs": [
        {
          "output_type": "stream",
          "name": "stdout",
          "text": [
            "Enter first no: 10\n",
            "Enter the second no: 10\n",
            "The multiplication result is  100\n"
          ]
        }
      ]
    },
    {
      "cell_type": "markdown",
      "source": [
        "24.Write a program that can find the factorial of a given number provided\n",
        "by the user."
      ],
      "metadata": {
        "id": "_4N627f9lK29"
      }
    },
    {
      "cell_type": "code",
      "source": [
        "n=int(input('Enter the no: '))\n",
        "r=1\n",
        "for i in range(1,n+1) :\n",
        "  r*=i\n",
        "print('The factorial of {} is the {}.'.format(n,r))"
      ],
      "metadata": {
        "colab": {
          "base_uri": "https://localhost:8080/"
        },
        "id": "Scn0GdKmt0MI",
        "outputId": "a4caa8a0-ad1c-435b-cae0-6a3d792b8474"
      },
      "execution_count": null,
      "outputs": [
        {
          "output_type": "stream",
          "name": "stdout",
          "text": [
            "Enter the no: 5\n",
            "The factorial of 5 is the 120.\n"
          ]
        }
      ]
    },
    {
      "cell_type": "markdown",
      "source": [
        "25.Write a program to print the first 25 odd numbers"
      ],
      "metadata": {
        "id": "WvrmDaRGlS6j"
      }
    },
    {
      "cell_type": "code",
      "source": [
        "i=0\n",
        "n=0\n",
        "while(i!=25):\n",
        "  n+=1\n",
        "  if n%2!=0:\n",
        "    print(n,end=',')\n",
        "    i+=1\n",
        "print('\\b')\n"
      ],
      "metadata": {
        "colab": {
          "base_uri": "https://localhost:8080/"
        },
        "id": "aHU3xd8qvuQ0",
        "outputId": "de3b7637-379e-42aa-a000-ad32d77a56c5"
      },
      "execution_count": null,
      "outputs": [
        {
          "output_type": "stream",
          "name": "stdout",
          "text": [
            "1,3,5,7,9,11,13,15,17,19,21,23,25,27,29,31,33,35,37,39,41,43,45,47,49,\b\n"
          ]
        }
      ]
    },
    {
      "cell_type": "markdown",
      "source": [
        "26.Write a program to print whether a given number is prime number or\n",
        "not"
      ],
      "metadata": {
        "id": "jFyc816BlWY3"
      }
    },
    {
      "cell_type": "code",
      "source": [
        "n=int(input('Enter the no: '))\n",
        "count=0\n",
        "for i in range(1,n+1):\n",
        "  if n%i==0:\n",
        "    count+=1\n",
        "if count==2 or n==1:\n",
        "  print('The no {} is prime .'.format(n))\n",
        "else:\n",
        "  print('The no {} is not a prime no.'.format(n))"
      ],
      "metadata": {
        "colab": {
          "base_uri": "https://localhost:8080/"
        },
        "id": "B_-4rT0Ux0s6",
        "outputId": "bb86b9df-2c52-44f4-85e8-3301a7b75b13"
      },
      "execution_count": null,
      "outputs": [
        {
          "output_type": "stream",
          "name": "stdout",
          "text": [
            "The no 100 is not a prime no.\n",
            "The no 101 is prime .\n",
            "The no 102 is not a prime no.\n",
            "The no 103 is prime .\n",
            "The no 104 is not a prime no.\n",
            "The no 105 is not a prime no.\n",
            "The no 106 is not a prime no.\n",
            "The no 107 is prime .\n",
            "The no 108 is not a prime no.\n",
            "The no 109 is prime .\n",
            "The no 110 is not a prime no.\n",
            "The no 111 is not a prime no.\n",
            "The no 112 is not a prime no.\n",
            "The no 113 is prime .\n",
            "The no 114 is not a prime no.\n",
            "The no 115 is not a prime no.\n",
            "The no 116 is not a prime no.\n",
            "The no 117 is not a prime no.\n",
            "The no 118 is not a prime no.\n",
            "The no 119 is not a prime no.\n",
            "The no 120 is not a prime no.\n",
            "The no 121 is not a prime no.\n",
            "The no 122 is not a prime no.\n",
            "The no 123 is not a prime no.\n",
            "The no 124 is not a prime no.\n",
            "The no 125 is not a prime no.\n",
            "The no 126 is not a prime no.\n",
            "The no 127 is prime .\n",
            "The no 128 is not a prime no.\n",
            "The no 129 is not a prime no.\n",
            "The no 130 is not a prime no.\n",
            "The no 131 is prime .\n",
            "The no 132 is not a prime no.\n",
            "The no 133 is not a prime no.\n",
            "The no 134 is not a prime no.\n",
            "The no 135 is not a prime no.\n",
            "The no 136 is not a prime no.\n",
            "The no 137 is prime .\n",
            "The no 138 is not a prime no.\n",
            "The no 139 is prime .\n",
            "The no 140 is not a prime no.\n",
            "The no 141 is not a prime no.\n",
            "The no 142 is not a prime no.\n",
            "The no 143 is not a prime no.\n",
            "The no 144 is not a prime no.\n",
            "The no 145 is not a prime no.\n",
            "The no 146 is not a prime no.\n",
            "The no 147 is not a prime no.\n",
            "The no 148 is not a prime no.\n",
            "The no 149 is prime .\n",
            "The no 150 is not a prime no.\n",
            "The no 151 is prime .\n",
            "The no 152 is not a prime no.\n",
            "The no 153 is not a prime no.\n",
            "The no 154 is not a prime no.\n",
            "The no 155 is not a prime no.\n",
            "The no 156 is not a prime no.\n",
            "The no 157 is prime .\n",
            "The no 158 is not a prime no.\n",
            "The no 159 is not a prime no.\n",
            "The no 160 is not a prime no.\n",
            "The no 161 is not a prime no.\n",
            "The no 162 is not a prime no.\n",
            "The no 163 is prime .\n",
            "The no 164 is not a prime no.\n",
            "The no 165 is not a prime no.\n",
            "The no 166 is not a prime no.\n",
            "The no 167 is prime .\n",
            "The no 168 is not a prime no.\n",
            "The no 169 is not a prime no.\n",
            "The no 170 is not a prime no.\n",
            "The no 171 is not a prime no.\n",
            "The no 172 is not a prime no.\n",
            "The no 173 is prime .\n",
            "The no 174 is not a prime no.\n",
            "The no 175 is not a prime no.\n",
            "The no 176 is not a prime no.\n",
            "The no 177 is not a prime no.\n",
            "The no 178 is not a prime no.\n",
            "The no 179 is prime .\n",
            "The no 180 is not a prime no.\n",
            "The no 181 is prime .\n",
            "The no 182 is not a prime no.\n",
            "The no 183 is not a prime no.\n",
            "The no 184 is not a prime no.\n",
            "The no 185 is not a prime no.\n",
            "The no 186 is not a prime no.\n",
            "The no 187 is not a prime no.\n",
            "The no 188 is not a prime no.\n",
            "The no 189 is not a prime no.\n",
            "The no 190 is not a prime no.\n",
            "The no 191 is prime .\n",
            "The no 192 is not a prime no.\n",
            "The no 193 is prime .\n",
            "The no 194 is not a prime no.\n",
            "The no 195 is not a prime no.\n",
            "The no 196 is not a prime no.\n",
            "The no 197 is prime .\n",
            "The no 198 is not a prime no.\n",
            "The no 199 is prime .\n",
            "The no 200 is not a prime no.\n",
            "The no 201 is not a prime no.\n",
            "The no 202 is not a prime no.\n",
            "The no 203 is not a prime no.\n",
            "The no 204 is not a prime no.\n",
            "The no 205 is not a prime no.\n",
            "The no 206 is not a prime no.\n",
            "The no 207 is not a prime no.\n",
            "The no 208 is not a prime no.\n",
            "The no 209 is not a prime no.\n",
            "The no 210 is not a prime no.\n",
            "The no 211 is prime .\n",
            "The no 212 is not a prime no.\n",
            "The no 213 is not a prime no.\n",
            "The no 214 is not a prime no.\n",
            "The no 215 is not a prime no.\n",
            "The no 216 is not a prime no.\n",
            "The no 217 is not a prime no.\n",
            "The no 218 is not a prime no.\n",
            "The no 219 is not a prime no.\n",
            "The no 220 is not a prime no.\n",
            "The no 221 is not a prime no.\n",
            "The no 222 is not a prime no.\n",
            "The no 223 is prime .\n",
            "The no 224 is not a prime no.\n",
            "The no 225 is not a prime no.\n",
            "The no 226 is not a prime no.\n",
            "The no 227 is prime .\n",
            "The no 228 is not a prime no.\n",
            "The no 229 is prime .\n",
            "The no 230 is not a prime no.\n",
            "The no 231 is not a prime no.\n",
            "The no 232 is not a prime no.\n",
            "The no 233 is prime .\n",
            "The no 234 is not a prime no.\n",
            "The no 235 is not a prime no.\n",
            "The no 236 is not a prime no.\n",
            "The no 237 is not a prime no.\n",
            "The no 238 is not a prime no.\n",
            "The no 239 is prime .\n",
            "The no 240 is not a prime no.\n",
            "The no 241 is prime .\n",
            "The no 242 is not a prime no.\n",
            "The no 243 is not a prime no.\n",
            "The no 244 is not a prime no.\n",
            "The no 245 is not a prime no.\n",
            "The no 246 is not a prime no.\n",
            "The no 247 is not a prime no.\n",
            "The no 248 is not a prime no.\n",
            "The no 249 is not a prime no.\n",
            "The no 250 is not a prime no.\n",
            "The no 251 is prime .\n",
            "The no 252 is not a prime no.\n",
            "The no 253 is not a prime no.\n",
            "The no 254 is not a prime no.\n",
            "The no 255 is not a prime no.\n",
            "The no 256 is not a prime no.\n",
            "The no 257 is prime .\n",
            "The no 258 is not a prime no.\n",
            "The no 259 is not a prime no.\n",
            "The no 260 is not a prime no.\n",
            "The no 261 is not a prime no.\n",
            "The no 262 is not a prime no.\n",
            "The no 263 is prime .\n",
            "The no 264 is not a prime no.\n",
            "The no 265 is not a prime no.\n",
            "The no 266 is not a prime no.\n",
            "The no 267 is not a prime no.\n",
            "The no 268 is not a prime no.\n",
            "The no 269 is prime .\n",
            "The no 270 is not a prime no.\n",
            "The no 271 is prime .\n",
            "The no 272 is not a prime no.\n",
            "The no 273 is not a prime no.\n",
            "The no 274 is not a prime no.\n",
            "The no 275 is not a prime no.\n",
            "The no 276 is not a prime no.\n",
            "The no 277 is prime .\n",
            "The no 278 is not a prime no.\n",
            "The no 279 is not a prime no.\n",
            "The no 280 is not a prime no.\n",
            "The no 281 is prime .\n",
            "The no 282 is not a prime no.\n",
            "The no 283 is prime .\n",
            "The no 284 is not a prime no.\n",
            "The no 285 is not a prime no.\n",
            "The no 286 is not a prime no.\n",
            "The no 287 is not a prime no.\n",
            "The no 288 is not a prime no.\n",
            "The no 289 is not a prime no.\n",
            "The no 290 is not a prime no.\n",
            "The no 291 is not a prime no.\n",
            "The no 292 is not a prime no.\n",
            "The no 293 is prime .\n",
            "The no 294 is not a prime no.\n",
            "The no 295 is not a prime no.\n",
            "The no 296 is not a prime no.\n",
            "The no 297 is not a prime no.\n",
            "The no 298 is not a prime no.\n",
            "The no 299 is not a prime no.\n",
            "The no 300 is not a prime no.\n",
            "The no 301 is not a prime no.\n",
            "The no 302 is not a prime no.\n",
            "The no 303 is not a prime no.\n",
            "The no 304 is not a prime no.\n",
            "The no 305 is not a prime no.\n",
            "The no 306 is not a prime no.\n",
            "The no 307 is prime .\n",
            "The no 308 is not a prime no.\n",
            "The no 309 is not a prime no.\n",
            "The no 310 is not a prime no.\n",
            "The no 311 is prime .\n",
            "The no 312 is not a prime no.\n",
            "The no 313 is prime .\n",
            "The no 314 is not a prime no.\n",
            "The no 315 is not a prime no.\n",
            "The no 316 is not a prime no.\n",
            "The no 317 is prime .\n",
            "The no 318 is not a prime no.\n",
            "The no 319 is not a prime no.\n",
            "The no 320 is not a prime no.\n",
            "The no 321 is not a prime no.\n",
            "The no 322 is not a prime no.\n",
            "The no 323 is not a prime no.\n",
            "The no 324 is not a prime no.\n",
            "The no 325 is not a prime no.\n",
            "The no 326 is not a prime no.\n",
            "The no 327 is not a prime no.\n",
            "The no 328 is not a prime no.\n",
            "The no 329 is not a prime no.\n",
            "The no 330 is not a prime no.\n",
            "The no 331 is prime .\n",
            "The no 332 is not a prime no.\n",
            "The no 333 is not a prime no.\n",
            "The no 334 is not a prime no.\n",
            "The no 335 is not a prime no.\n",
            "The no 336 is not a prime no.\n",
            "The no 337 is prime .\n",
            "The no 338 is not a prime no.\n",
            "The no 339 is not a prime no.\n",
            "The no 340 is not a prime no.\n",
            "The no 341 is not a prime no.\n",
            "The no 342 is not a prime no.\n",
            "The no 343 is not a prime no.\n",
            "The no 344 is not a prime no.\n",
            "The no 345 is not a prime no.\n",
            "The no 346 is not a prime no.\n",
            "The no 347 is prime .\n",
            "The no 348 is not a prime no.\n",
            "The no 349 is prime .\n",
            "The no 350 is not a prime no.\n",
            "The no 351 is not a prime no.\n",
            "The no 352 is not a prime no.\n",
            "The no 353 is prime .\n",
            "The no 354 is not a prime no.\n",
            "The no 355 is not a prime no.\n",
            "The no 356 is not a prime no.\n",
            "The no 357 is not a prime no.\n",
            "The no 358 is not a prime no.\n",
            "The no 359 is prime .\n",
            "The no 360 is not a prime no.\n",
            "The no 361 is not a prime no.\n",
            "The no 362 is not a prime no.\n",
            "The no 363 is not a prime no.\n",
            "The no 364 is not a prime no.\n",
            "The no 365 is not a prime no.\n",
            "The no 366 is not a prime no.\n",
            "The no 367 is prime .\n",
            "The no 368 is not a prime no.\n",
            "The no 369 is not a prime no.\n",
            "The no 370 is not a prime no.\n",
            "The no 371 is not a prime no.\n",
            "The no 372 is not a prime no.\n",
            "The no 373 is prime .\n",
            "The no 374 is not a prime no.\n",
            "The no 375 is not a prime no.\n",
            "The no 376 is not a prime no.\n",
            "The no 377 is not a prime no.\n",
            "The no 378 is not a prime no.\n",
            "The no 379 is prime .\n",
            "The no 380 is not a prime no.\n",
            "The no 381 is not a prime no.\n",
            "The no 382 is not a prime no.\n",
            "The no 383 is prime .\n",
            "The no 384 is not a prime no.\n",
            "The no 385 is not a prime no.\n",
            "The no 386 is not a prime no.\n",
            "The no 387 is not a prime no.\n",
            "The no 388 is not a prime no.\n",
            "The no 389 is prime .\n",
            "The no 390 is not a prime no.\n",
            "The no 391 is not a prime no.\n",
            "The no 392 is not a prime no.\n",
            "The no 393 is not a prime no.\n",
            "The no 394 is not a prime no.\n",
            "The no 395 is not a prime no.\n",
            "The no 396 is not a prime no.\n",
            "The no 397 is prime .\n",
            "The no 398 is not a prime no.\n",
            "The no 399 is not a prime no.\n",
            "The no 400 is not a prime no.\n",
            "The no 401 is prime .\n",
            "The no 402 is not a prime no.\n",
            "The no 403 is not a prime no.\n",
            "The no 404 is not a prime no.\n",
            "The no 405 is not a prime no.\n",
            "The no 406 is not a prime no.\n",
            "The no 407 is not a prime no.\n",
            "The no 408 is not a prime no.\n",
            "The no 409 is prime .\n",
            "The no 410 is not a prime no.\n",
            "The no 411 is not a prime no.\n",
            "The no 412 is not a prime no.\n",
            "The no 413 is not a prime no.\n",
            "The no 414 is not a prime no.\n",
            "The no 415 is not a prime no.\n",
            "The no 416 is not a prime no.\n",
            "The no 417 is not a prime no.\n",
            "The no 418 is not a prime no.\n",
            "The no 419 is prime .\n",
            "The no 420 is not a prime no.\n",
            "The no 421 is prime .\n",
            "The no 422 is not a prime no.\n",
            "The no 423 is not a prime no.\n",
            "The no 424 is not a prime no.\n",
            "The no 425 is not a prime no.\n",
            "The no 426 is not a prime no.\n",
            "The no 427 is not a prime no.\n",
            "The no 428 is not a prime no.\n",
            "The no 429 is not a prime no.\n",
            "The no 430 is not a prime no.\n",
            "The no 431 is prime .\n",
            "The no 432 is not a prime no.\n",
            "The no 433 is prime .\n",
            "The no 434 is not a prime no.\n",
            "The no 435 is not a prime no.\n",
            "The no 436 is not a prime no.\n",
            "The no 437 is not a prime no.\n",
            "The no 438 is not a prime no.\n",
            "The no 439 is prime .\n",
            "The no 440 is not a prime no.\n",
            "The no 441 is not a prime no.\n",
            "The no 442 is not a prime no.\n",
            "The no 443 is prime .\n",
            "The no 444 is not a prime no.\n",
            "The no 445 is not a prime no.\n",
            "The no 446 is not a prime no.\n",
            "The no 447 is not a prime no.\n",
            "The no 448 is not a prime no.\n",
            "The no 449 is prime .\n",
            "The no 450 is not a prime no.\n",
            "The no 451 is not a prime no.\n",
            "The no 452 is not a prime no.\n",
            "The no 453 is not a prime no.\n",
            "The no 454 is not a prime no.\n",
            "The no 455 is not a prime no.\n",
            "The no 456 is not a prime no.\n",
            "The no 457 is prime .\n",
            "The no 458 is not a prime no.\n",
            "The no 459 is not a prime no.\n",
            "The no 460 is not a prime no.\n",
            "The no 461 is prime .\n",
            "The no 462 is not a prime no.\n",
            "The no 463 is prime .\n",
            "The no 464 is not a prime no.\n",
            "The no 465 is not a prime no.\n",
            "The no 466 is not a prime no.\n",
            "The no 467 is prime .\n",
            "The no 468 is not a prime no.\n",
            "The no 469 is not a prime no.\n",
            "The no 470 is not a prime no.\n",
            "The no 471 is not a prime no.\n",
            "The no 472 is not a prime no.\n",
            "The no 473 is not a prime no.\n",
            "The no 474 is not a prime no.\n",
            "The no 475 is not a prime no.\n",
            "The no 476 is not a prime no.\n",
            "The no 477 is not a prime no.\n",
            "The no 478 is not a prime no.\n",
            "The no 479 is prime .\n",
            "The no 480 is not a prime no.\n",
            "The no 481 is not a prime no.\n",
            "The no 482 is not a prime no.\n",
            "The no 483 is not a prime no.\n",
            "The no 484 is not a prime no.\n",
            "The no 485 is not a prime no.\n",
            "The no 486 is not a prime no.\n",
            "The no 487 is prime .\n",
            "The no 488 is not a prime no.\n",
            "The no 489 is not a prime no.\n",
            "The no 490 is not a prime no.\n",
            "The no 491 is prime .\n",
            "The no 492 is not a prime no.\n",
            "The no 493 is not a prime no.\n",
            "The no 494 is not a prime no.\n",
            "The no 495 is not a prime no.\n",
            "The no 496 is not a prime no.\n",
            "The no 497 is not a prime no.\n",
            "The no 498 is not a prime no.\n",
            "The no 499 is prime .\n",
            "The no 500 is not a prime no.\n",
            "The no 501 is not a prime no.\n",
            "The no 502 is not a prime no.\n",
            "The no 503 is prime .\n",
            "The no 504 is not a prime no.\n",
            "The no 505 is not a prime no.\n",
            "The no 506 is not a prime no.\n",
            "The no 507 is not a prime no.\n",
            "The no 508 is not a prime no.\n",
            "The no 509 is prime .\n",
            "The no 510 is not a prime no.\n",
            "The no 511 is not a prime no.\n",
            "The no 512 is not a prime no.\n",
            "The no 513 is not a prime no.\n",
            "The no 514 is not a prime no.\n",
            "The no 515 is not a prime no.\n",
            "The no 516 is not a prime no.\n",
            "The no 517 is not a prime no.\n",
            "The no 518 is not a prime no.\n",
            "The no 519 is not a prime no.\n",
            "The no 520 is not a prime no.\n",
            "The no 521 is prime .\n",
            "The no 522 is not a prime no.\n",
            "The no 523 is prime .\n",
            "The no 524 is not a prime no.\n",
            "The no 525 is not a prime no.\n",
            "The no 526 is not a prime no.\n",
            "The no 527 is not a prime no.\n",
            "The no 528 is not a prime no.\n",
            "The no 529 is not a prime no.\n",
            "The no 530 is not a prime no.\n",
            "The no 531 is not a prime no.\n",
            "The no 532 is not a prime no.\n",
            "The no 533 is not a prime no.\n",
            "The no 534 is not a prime no.\n",
            "The no 535 is not a prime no.\n",
            "The no 536 is not a prime no.\n",
            "The no 537 is not a prime no.\n",
            "The no 538 is not a prime no.\n",
            "The no 539 is not a prime no.\n",
            "The no 540 is not a prime no.\n",
            "The no 541 is prime .\n",
            "The no 542 is not a prime no.\n",
            "The no 543 is not a prime no.\n",
            "The no 544 is not a prime no.\n",
            "The no 545 is not a prime no.\n",
            "The no 546 is not a prime no.\n",
            "The no 547 is prime .\n",
            "The no 548 is not a prime no.\n",
            "The no 549 is not a prime no.\n",
            "The no 550 is not a prime no.\n",
            "The no 551 is not a prime no.\n",
            "The no 552 is not a prime no.\n",
            "The no 553 is not a prime no.\n",
            "The no 554 is not a prime no.\n",
            "The no 555 is not a prime no.\n",
            "The no 556 is not a prime no.\n",
            "The no 557 is prime .\n",
            "The no 558 is not a prime no.\n",
            "The no 559 is not a prime no.\n",
            "The no 560 is not a prime no.\n",
            "The no 561 is not a prime no.\n",
            "The no 562 is not a prime no.\n",
            "The no 563 is prime .\n",
            "The no 564 is not a prime no.\n",
            "The no 565 is not a prime no.\n",
            "The no 566 is not a prime no.\n",
            "The no 567 is not a prime no.\n",
            "The no 568 is not a prime no.\n",
            "The no 569 is prime .\n",
            "The no 570 is not a prime no.\n",
            "The no 571 is prime .\n",
            "The no 572 is not a prime no.\n",
            "The no 573 is not a prime no.\n",
            "The no 574 is not a prime no.\n",
            "The no 575 is not a prime no.\n",
            "The no 576 is not a prime no.\n",
            "The no 577 is prime .\n",
            "The no 578 is not a prime no.\n",
            "The no 579 is not a prime no.\n",
            "The no 580 is not a prime no.\n",
            "The no 581 is not a prime no.\n",
            "The no 582 is not a prime no.\n",
            "The no 583 is not a prime no.\n",
            "The no 584 is not a prime no.\n",
            "The no 585 is not a prime no.\n",
            "The no 586 is not a prime no.\n",
            "The no 587 is prime .\n",
            "The no 588 is not a prime no.\n",
            "The no 589 is not a prime no.\n",
            "The no 590 is not a prime no.\n",
            "The no 591 is not a prime no.\n",
            "The no 592 is not a prime no.\n",
            "The no 593 is prime .\n",
            "The no 594 is not a prime no.\n",
            "The no 595 is not a prime no.\n",
            "The no 596 is not a prime no.\n",
            "The no 597 is not a prime no.\n",
            "The no 598 is not a prime no.\n",
            "The no 599 is prime .\n",
            "The no 600 is not a prime no.\n",
            "The no 601 is prime .\n",
            "The no 602 is not a prime no.\n",
            "The no 603 is not a prime no.\n",
            "The no 604 is not a prime no.\n",
            "The no 605 is not a prime no.\n",
            "The no 606 is not a prime no.\n",
            "The no 607 is prime .\n",
            "The no 608 is not a prime no.\n",
            "The no 609 is not a prime no.\n",
            "The no 610 is not a prime no.\n",
            "The no 611 is not a prime no.\n",
            "The no 612 is not a prime no.\n",
            "The no 613 is prime .\n",
            "The no 614 is not a prime no.\n",
            "The no 615 is not a prime no.\n",
            "The no 616 is not a prime no.\n",
            "The no 617 is prime .\n",
            "The no 618 is not a prime no.\n",
            "The no 619 is prime .\n",
            "The no 620 is not a prime no.\n",
            "The no 621 is not a prime no.\n",
            "The no 622 is not a prime no.\n",
            "The no 623 is not a prime no.\n",
            "The no 624 is not a prime no.\n",
            "The no 625 is not a prime no.\n",
            "The no 626 is not a prime no.\n",
            "The no 627 is not a prime no.\n",
            "The no 628 is not a prime no.\n",
            "The no 629 is not a prime no.\n",
            "The no 630 is not a prime no.\n",
            "The no 631 is prime .\n",
            "The no 632 is not a prime no.\n",
            "The no 633 is not a prime no.\n",
            "The no 634 is not a prime no.\n",
            "The no 635 is not a prime no.\n",
            "The no 636 is not a prime no.\n",
            "The no 637 is not a prime no.\n",
            "The no 638 is not a prime no.\n",
            "The no 639 is not a prime no.\n",
            "The no 640 is not a prime no.\n",
            "The no 641 is prime .\n",
            "The no 642 is not a prime no.\n",
            "The no 643 is prime .\n",
            "The no 644 is not a prime no.\n",
            "The no 645 is not a prime no.\n",
            "The no 646 is not a prime no.\n",
            "The no 647 is prime .\n",
            "The no 648 is not a prime no.\n",
            "The no 649 is not a prime no.\n",
            "The no 650 is not a prime no.\n",
            "The no 651 is not a prime no.\n",
            "The no 652 is not a prime no.\n",
            "The no 653 is prime .\n",
            "The no 654 is not a prime no.\n",
            "The no 655 is not a prime no.\n",
            "The no 656 is not a prime no.\n",
            "The no 657 is not a prime no.\n",
            "The no 658 is not a prime no.\n",
            "The no 659 is prime .\n",
            "The no 660 is not a prime no.\n",
            "The no 661 is prime .\n",
            "The no 662 is not a prime no.\n",
            "The no 663 is not a prime no.\n",
            "The no 664 is not a prime no.\n",
            "The no 665 is not a prime no.\n",
            "The no 666 is not a prime no.\n",
            "The no 667 is not a prime no.\n",
            "The no 668 is not a prime no.\n",
            "The no 669 is not a prime no.\n",
            "The no 670 is not a prime no.\n",
            "The no 671 is not a prime no.\n",
            "The no 672 is not a prime no.\n",
            "The no 673 is prime .\n",
            "The no 674 is not a prime no.\n",
            "The no 675 is not a prime no.\n",
            "The no 676 is not a prime no.\n",
            "The no 677 is prime .\n",
            "The no 678 is not a prime no.\n",
            "The no 679 is not a prime no.\n",
            "The no 680 is not a prime no.\n",
            "The no 681 is not a prime no.\n",
            "The no 682 is not a prime no.\n",
            "The no 683 is prime .\n",
            "The no 684 is not a prime no.\n",
            "The no 685 is not a prime no.\n",
            "The no 686 is not a prime no.\n",
            "The no 687 is not a prime no.\n",
            "The no 688 is not a prime no.\n",
            "The no 689 is not a prime no.\n",
            "The no 690 is not a prime no.\n",
            "The no 691 is prime .\n",
            "The no 692 is not a prime no.\n",
            "The no 693 is not a prime no.\n",
            "The no 694 is not a prime no.\n",
            "The no 695 is not a prime no.\n",
            "The no 696 is not a prime no.\n",
            "The no 697 is not a prime no.\n",
            "The no 698 is not a prime no.\n",
            "The no 699 is not a prime no.\n",
            "The no 700 is not a prime no.\n",
            "The no 701 is prime .\n",
            "The no 702 is not a prime no.\n",
            "The no 703 is not a prime no.\n",
            "The no 704 is not a prime no.\n",
            "The no 705 is not a prime no.\n",
            "The no 706 is not a prime no.\n",
            "The no 707 is not a prime no.\n",
            "The no 708 is not a prime no.\n",
            "The no 709 is prime .\n",
            "The no 710 is not a prime no.\n",
            "The no 711 is not a prime no.\n",
            "The no 712 is not a prime no.\n",
            "The no 713 is not a prime no.\n",
            "The no 714 is not a prime no.\n",
            "The no 715 is not a prime no.\n",
            "The no 716 is not a prime no.\n",
            "The no 717 is not a prime no.\n",
            "The no 718 is not a prime no.\n",
            "The no 719 is prime .\n",
            "The no 720 is not a prime no.\n",
            "The no 721 is not a prime no.\n",
            "The no 722 is not a prime no.\n",
            "The no 723 is not a prime no.\n",
            "The no 724 is not a prime no.\n",
            "The no 725 is not a prime no.\n",
            "The no 726 is not a prime no.\n",
            "The no 727 is prime .\n",
            "The no 728 is not a prime no.\n",
            "The no 729 is not a prime no.\n",
            "The no 730 is not a prime no.\n",
            "The no 731 is not a prime no.\n",
            "The no 732 is not a prime no.\n",
            "The no 733 is prime .\n",
            "The no 734 is not a prime no.\n",
            "The no 735 is not a prime no.\n",
            "The no 736 is not a prime no.\n",
            "The no 737 is not a prime no.\n",
            "The no 738 is not a prime no.\n",
            "The no 739 is prime .\n",
            "The no 740 is not a prime no.\n",
            "The no 741 is not a prime no.\n",
            "The no 742 is not a prime no.\n",
            "The no 743 is prime .\n",
            "The no 744 is not a prime no.\n",
            "The no 745 is not a prime no.\n",
            "The no 746 is not a prime no.\n",
            "The no 747 is not a prime no.\n",
            "The no 748 is not a prime no.\n",
            "The no 749 is not a prime no.\n",
            "The no 750 is not a prime no.\n",
            "The no 751 is prime .\n",
            "The no 752 is not a prime no.\n",
            "The no 753 is not a prime no.\n",
            "The no 754 is not a prime no.\n",
            "The no 755 is not a prime no.\n",
            "The no 756 is not a prime no.\n",
            "The no 757 is prime .\n",
            "The no 758 is not a prime no.\n",
            "The no 759 is not a prime no.\n",
            "The no 760 is not a prime no.\n",
            "The no 761 is prime .\n",
            "The no 762 is not a prime no.\n",
            "The no 763 is not a prime no.\n",
            "The no 764 is not a prime no.\n",
            "The no 765 is not a prime no.\n",
            "The no 766 is not a prime no.\n",
            "The no 767 is not a prime no.\n",
            "The no 768 is not a prime no.\n",
            "The no 769 is prime .\n",
            "The no 770 is not a prime no.\n",
            "The no 771 is not a prime no.\n",
            "The no 772 is not a prime no.\n",
            "The no 773 is prime .\n",
            "The no 774 is not a prime no.\n",
            "The no 775 is not a prime no.\n",
            "The no 776 is not a prime no.\n",
            "The no 777 is not a prime no.\n",
            "The no 778 is not a prime no.\n",
            "The no 779 is not a prime no.\n",
            "The no 780 is not a prime no.\n",
            "The no 781 is not a prime no.\n",
            "The no 782 is not a prime no.\n",
            "The no 783 is not a prime no.\n",
            "The no 784 is not a prime no.\n",
            "The no 785 is not a prime no.\n",
            "The no 786 is not a prime no.\n",
            "The no 787 is prime .\n",
            "The no 788 is not a prime no.\n",
            "The no 789 is not a prime no.\n",
            "The no 790 is not a prime no.\n",
            "The no 791 is not a prime no.\n",
            "The no 792 is not a prime no.\n",
            "The no 793 is not a prime no.\n",
            "The no 794 is not a prime no.\n",
            "The no 795 is not a prime no.\n",
            "The no 796 is not a prime no.\n",
            "The no 797 is prime .\n",
            "The no 798 is not a prime no.\n",
            "The no 799 is not a prime no.\n",
            "The no 800 is not a prime no.\n",
            "The no 801 is not a prime no.\n",
            "The no 802 is not a prime no.\n",
            "The no 803 is not a prime no.\n",
            "The no 804 is not a prime no.\n",
            "The no 805 is not a prime no.\n",
            "The no 806 is not a prime no.\n",
            "The no 807 is not a prime no.\n",
            "The no 808 is not a prime no.\n",
            "The no 809 is prime .\n",
            "The no 810 is not a prime no.\n",
            "The no 811 is prime .\n",
            "The no 812 is not a prime no.\n",
            "The no 813 is not a prime no.\n",
            "The no 814 is not a prime no.\n",
            "The no 815 is not a prime no.\n",
            "The no 816 is not a prime no.\n",
            "The no 817 is not a prime no.\n",
            "The no 818 is not a prime no.\n",
            "The no 819 is not a prime no.\n",
            "The no 820 is not a prime no.\n",
            "The no 821 is prime .\n",
            "The no 822 is not a prime no.\n",
            "The no 823 is prime .\n",
            "The no 824 is not a prime no.\n",
            "The no 825 is not a prime no.\n",
            "The no 826 is not a prime no.\n",
            "The no 827 is prime .\n",
            "The no 828 is not a prime no.\n",
            "The no 829 is prime .\n",
            "The no 830 is not a prime no.\n",
            "The no 831 is not a prime no.\n",
            "The no 832 is not a prime no.\n",
            "The no 833 is not a prime no.\n",
            "The no 834 is not a prime no.\n",
            "The no 835 is not a prime no.\n",
            "The no 836 is not a prime no.\n",
            "The no 837 is not a prime no.\n",
            "The no 838 is not a prime no.\n",
            "The no 839 is prime .\n",
            "The no 840 is not a prime no.\n",
            "The no 841 is not a prime no.\n",
            "The no 842 is not a prime no.\n",
            "The no 843 is not a prime no.\n",
            "The no 844 is not a prime no.\n",
            "The no 845 is not a prime no.\n",
            "The no 846 is not a prime no.\n",
            "The no 847 is not a prime no.\n",
            "The no 848 is not a prime no.\n",
            "The no 849 is not a prime no.\n",
            "The no 850 is not a prime no.\n",
            "The no 851 is not a prime no.\n",
            "The no 852 is not a prime no.\n",
            "The no 853 is prime .\n",
            "The no 854 is not a prime no.\n",
            "The no 855 is not a prime no.\n",
            "The no 856 is not a prime no.\n",
            "The no 857 is prime .\n",
            "The no 858 is not a prime no.\n",
            "The no 859 is prime .\n",
            "The no 860 is not a prime no.\n",
            "The no 861 is not a prime no.\n",
            "The no 862 is not a prime no.\n",
            "The no 863 is prime .\n",
            "The no 864 is not a prime no.\n",
            "The no 865 is not a prime no.\n",
            "The no 866 is not a prime no.\n",
            "The no 867 is not a prime no.\n",
            "The no 868 is not a prime no.\n",
            "The no 869 is not a prime no.\n",
            "The no 870 is not a prime no.\n",
            "The no 871 is not a prime no.\n",
            "The no 872 is not a prime no.\n",
            "The no 873 is not a prime no.\n",
            "The no 874 is not a prime no.\n",
            "The no 875 is not a prime no.\n",
            "The no 876 is not a prime no.\n",
            "The no 877 is prime .\n",
            "The no 878 is not a prime no.\n",
            "The no 879 is not a prime no.\n",
            "The no 880 is not a prime no.\n",
            "The no 881 is prime .\n",
            "The no 882 is not a prime no.\n",
            "The no 883 is prime .\n",
            "The no 884 is not a prime no.\n",
            "The no 885 is not a prime no.\n",
            "The no 886 is not a prime no.\n",
            "The no 887 is prime .\n",
            "The no 888 is not a prime no.\n",
            "The no 889 is not a prime no.\n",
            "The no 890 is not a prime no.\n",
            "The no 891 is not a prime no.\n",
            "The no 892 is not a prime no.\n",
            "The no 893 is not a prime no.\n",
            "The no 894 is not a prime no.\n",
            "The no 895 is not a prime no.\n",
            "The no 896 is not a prime no.\n",
            "The no 897 is not a prime no.\n",
            "The no 898 is not a prime no.\n",
            "The no 899 is not a prime no.\n",
            "The no 900 is not a prime no.\n",
            "The no 901 is not a prime no.\n",
            "The no 902 is not a prime no.\n",
            "The no 903 is not a prime no.\n",
            "The no 904 is not a prime no.\n",
            "The no 905 is not a prime no.\n",
            "The no 906 is not a prime no.\n",
            "The no 907 is prime .\n",
            "The no 908 is not a prime no.\n",
            "The no 909 is not a prime no.\n",
            "The no 910 is not a prime no.\n",
            "The no 911 is prime .\n",
            "The no 912 is not a prime no.\n",
            "The no 913 is not a prime no.\n",
            "The no 914 is not a prime no.\n",
            "The no 915 is not a prime no.\n",
            "The no 916 is not a prime no.\n",
            "The no 917 is not a prime no.\n",
            "The no 918 is not a prime no.\n",
            "The no 919 is prime .\n",
            "The no 920 is not a prime no.\n",
            "The no 921 is not a prime no.\n",
            "The no 922 is not a prime no.\n",
            "The no 923 is not a prime no.\n",
            "The no 924 is not a prime no.\n",
            "The no 925 is not a prime no.\n",
            "The no 926 is not a prime no.\n",
            "The no 927 is not a prime no.\n",
            "The no 928 is not a prime no.\n",
            "The no 929 is prime .\n",
            "The no 930 is not a prime no.\n",
            "The no 931 is not a prime no.\n",
            "The no 932 is not a prime no.\n",
            "The no 933 is not a prime no.\n",
            "The no 934 is not a prime no.\n",
            "The no 935 is not a prime no.\n",
            "The no 936 is not a prime no.\n",
            "The no 937 is prime .\n",
            "The no 938 is not a prime no.\n",
            "The no 939 is not a prime no.\n",
            "The no 940 is not a prime no.\n",
            "The no 941 is prime .\n",
            "The no 942 is not a prime no.\n",
            "The no 943 is not a prime no.\n",
            "The no 944 is not a prime no.\n",
            "The no 945 is not a prime no.\n",
            "The no 946 is not a prime no.\n",
            "The no 947 is prime .\n",
            "The no 948 is not a prime no.\n",
            "The no 949 is not a prime no.\n",
            "The no 950 is not a prime no.\n",
            "The no 951 is not a prime no.\n",
            "The no 952 is not a prime no.\n",
            "The no 953 is prime .\n",
            "The no 954 is not a prime no.\n",
            "The no 955 is not a prime no.\n",
            "The no 956 is not a prime no.\n",
            "The no 957 is not a prime no.\n",
            "The no 958 is not a prime no.\n",
            "The no 959 is not a prime no.\n",
            "The no 960 is not a prime no.\n",
            "The no 961 is not a prime no.\n",
            "The no 962 is not a prime no.\n",
            "The no 963 is not a prime no.\n",
            "The no 964 is not a prime no.\n",
            "The no 965 is not a prime no.\n",
            "The no 966 is not a prime no.\n",
            "The no 967 is prime .\n",
            "The no 968 is not a prime no.\n",
            "The no 969 is not a prime no.\n",
            "The no 970 is not a prime no.\n",
            "The no 971 is prime .\n",
            "The no 972 is not a prime no.\n",
            "The no 973 is not a prime no.\n",
            "The no 974 is not a prime no.\n",
            "The no 975 is not a prime no.\n",
            "The no 976 is not a prime no.\n",
            "The no 977 is prime .\n",
            "The no 978 is not a prime no.\n",
            "The no 979 is not a prime no.\n",
            "The no 980 is not a prime no.\n",
            "The no 981 is not a prime no.\n",
            "The no 982 is not a prime no.\n",
            "The no 983 is prime .\n",
            "The no 984 is not a prime no.\n",
            "The no 985 is not a prime no.\n",
            "The no 986 is not a prime no.\n",
            "The no 987 is not a prime no.\n",
            "The no 988 is not a prime no.\n",
            "The no 989 is not a prime no.\n",
            "The no 990 is not a prime no.\n",
            "The no 991 is prime .\n",
            "The no 992 is not a prime no.\n",
            "The no 993 is not a prime no.\n",
            "The no 994 is not a prime no.\n",
            "The no 995 is not a prime no.\n",
            "The no 996 is not a prime no.\n",
            "The no 997 is prime .\n",
            "The no 998 is not a prime no.\n",
            "The no 999 is not a prime no.\n",
            "The no 1000 is not a prime no.\n"
          ]
        }
      ]
    },
    {
      "cell_type": "markdown",
      "source": [
        "27. Print all the armstrong numbers in the range of 100 to 1000\n"
      ],
      "metadata": {
        "id": "qfgVZ8bilfHY"
      }
    },
    {
      "cell_type": "code",
      "source": [
        "for n in range(100,1000+1):\n",
        "  no=n\n",
        "  l=len(str(n))\n",
        "  sum=0\n",
        "  while(n!=0):\n",
        "    a=n%10\n",
        "    n=n//10\n",
        "    sum+=a**l\n",
        "  if sum==no:\n",
        "    print(no)"
      ],
      "metadata": {
        "colab": {
          "base_uri": "https://localhost:8080/"
        },
        "id": "wBTAVJiMx0gs",
        "outputId": "b5bfa46d-c314-47ba-f9f8-a383f2cacd08"
      },
      "execution_count": null,
      "outputs": [
        {
          "output_type": "stream",
          "name": "stdout",
          "text": [
            "153\n",
            "370\n",
            "371\n",
            "407\n"
          ]
        }
      ]
    },
    {
      "cell_type": "markdown",
      "source": [
        "28.The current population of a town is 10000. The population of the town is\n",
        "increasing at the rate of 10% per year. You have to write a program to\n",
        "find out the population at the end of each of the last 10 years. For eg\n",
        "current population is 10000 so the output should be like this:\n",
        "10th year - 10000\n",
        "9th year - 9000\n",
        "8th year - 8100 and so on"
      ],
      "metadata": {
        "id": "HuMePTOVljLV"
      }
    },
    {
      "cell_type": "code",
      "source": [
        "p=10000\n",
        "for i in range(10-1,0,-1):\n",
        "  cp=p-p*0.1\n",
        "  p=cp\n",
        "  print('{}th year-: {}'.format(i,cp))\n"
      ],
      "metadata": {
        "colab": {
          "base_uri": "https://localhost:8080/"
        },
        "id": "j0YPyWN13vKG",
        "outputId": "4b94095a-e34c-4ba3-e686-af6aea89d46d"
      },
      "execution_count": null,
      "outputs": [
        {
          "output_type": "stream",
          "name": "stdout",
          "text": [
            "9th year-: 9000.0\n",
            "8th year-: 8100.0\n",
            "7th year-: 7290.0\n",
            "6th year-: 6561.0\n",
            "5th year-: 5904.9\n",
            "4th year-: 5314.41\n",
            "3th year-: 4782.969\n",
            "2th year-: 4304.6721\n",
            "1th year-: 3874.20489\n"
          ]
        }
      ]
    },
    {
      "cell_type": "code",
      "source": [],
      "metadata": {
        "id": "DKv-FZCa8qg0"
      },
      "execution_count": null,
      "outputs": []
    },
    {
      "cell_type": "code",
      "source": [],
      "metadata": {
        "id": "bsdAyjJu8qOe"
      },
      "execution_count": null,
      "outputs": []
    }
  ],
  "metadata": {
    "colab": {
      "provenance": [],
      "include_colab_link": true
    },
    "kernelspec": {
      "display_name": "Python 3",
      "name": "python3"
    }
  },
  "nbformat": 4,
  "nbformat_minor": 0
}